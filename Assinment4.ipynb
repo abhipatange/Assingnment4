{
 "cells": [
  {
   "cell_type": "code",
   "execution_count": null,
   "id": "6739bf8c-3874-41cd-a10b-6c855c14579f",
   "metadata": {},
   "outputs": [],
   "source": [
    "Q1. What is the mathematical formula for a linear SVM?"
   ]
  },
  {
   "cell_type": "code",
   "execution_count": null,
   "id": "cdac2d07-7677-4d6f-b9d4-f52ec566581a",
   "metadata": {},
   "outputs": [],
   "source": [
    "Ans = The goal of the algorithm involved behind SVM:\n",
    "Finding a hyperplane with the maximum margin\n",
    "(margin is basically a protected space around hyperplane equation) \n",
    "and algorithm tries to have maximum margin with the closest points (known as support vectors).\n",
    "wT(Φ(x)) + b < 0"
   ]
  },
  {
   "cell_type": "code",
   "execution_count": null,
   "id": "636f997f-9c99-484b-b0e8-4192d17a23c9",
   "metadata": {},
   "outputs": [],
   "source": []
  },
  {
   "cell_type": "code",
   "execution_count": null,
   "id": "c4da4731-0aa6-40d3-a75d-c51282175ecc",
   "metadata": {},
   "outputs": [],
   "source": [
    "Q2. What is the objective function of a linear SVM?"
   ]
  },
  {
   "cell_type": "code",
   "execution_count": null,
   "id": "6252d2ec-16c2-4ea4-a1e4-b2dd8257fb7d",
   "metadata": {},
   "outputs": [],
   "source": [
    "Ans = The objective of the support vector machine algorithm is to find a hyperplane\n",
    "in an N-dimensional space(N — the number of features) that distinctly classifies the data points.\n",
    "To separate the two classes of data points,\n",
    "there are many possible hyperplanes that could be chosen."
   ]
  },
  {
   "cell_type": "code",
   "execution_count": null,
   "id": "f52fabf0-1eef-4845-b797-151ba8fe08d9",
   "metadata": {},
   "outputs": [],
   "source": []
  },
  {
   "cell_type": "code",
   "execution_count": null,
   "id": "817de26c-ff93-43ea-8e58-a83b28fd00b5",
   "metadata": {},
   "outputs": [],
   "source": [
    "Q3. What is the kernel trick in SVM?"
   ]
  },
  {
   "cell_type": "code",
   "execution_count": null,
   "id": "75054f2b-cd4d-4444-9bf8-4d0af4106cb9",
   "metadata": {},
   "outputs": [],
   "source": [
    "Ans = A Kernel Trick is a simple method where a Non Linear data is projected onto a higher\n",
    "dimension space so as to make it easier to classify the data where\n",
    "it could be linearly divided by a plane. \n",
    "This is mathematically achieved by Lagrangian formula using Lagrangian multipliers. "
   ]
  },
  {
   "cell_type": "code",
   "execution_count": null,
   "id": "fe89fea3-1b91-47d8-a020-37179d4476e7",
   "metadata": {},
   "outputs": [],
   "source": []
  },
  {
   "cell_type": "code",
   "execution_count": null,
   "id": "2d1bbf29-7671-4087-8c10-4c6d92a5ef03",
   "metadata": {},
   "outputs": [],
   "source": [
    "Q4. What is the role of support vectors in SVM Explain with example"
   ]
  },
  {
   "cell_type": "code",
   "execution_count": null,
   "id": "c54bb255-2291-49a9-8f08-711464884175",
   "metadata": {},
   "outputs": [],
   "source": [
    "Ans = SVMs are used in applications like handwriting recognition,\n",
    "intrusion detection, face detection, email classification, gene classification,\n",
    "and in web pages. This is one of the reasons we use SVMs in machine learning. \n",
    "It can handle both classification and regression on linear and non-linear data."
   ]
  },
  {
   "cell_type": "code",
   "execution_count": null,
   "id": "829ca3ec-e5f6-4955-9ae7-f3f60383c3a9",
   "metadata": {},
   "outputs": [],
   "source": []
  },
  {
   "cell_type": "code",
   "execution_count": null,
   "id": "4ff9344c-c5ac-4ccd-a886-ed5c663c6094",
   "metadata": {},
   "outputs": [],
   "source": [
    "Q5. Illustrate with examples and graphs of Hyperplane, Marginal plane, Soft margin and Hard margin in\n",
    "SVM?"
   ]
  },
  {
   "cell_type": "code",
   "execution_count": null,
   "id": "82753d0c-65ed-4932-b9f0-ce79f812c117",
   "metadata": {},
   "outputs": [],
   "source": [
    "Ans = "
   ]
  },
  {
   "cell_type": "code",
   "execution_count": null,
   "id": "33374f7f-1484-4ef6-bd61-e230e99c40ee",
   "metadata": {},
   "outputs": [],
   "source": []
  },
  {
   "cell_type": "code",
   "execution_count": null,
   "id": "61cd477a-3cf6-4294-8945-22cbe81272d2",
   "metadata": {},
   "outputs": [],
   "source": []
  }
 ],
 "metadata": {
  "kernelspec": {
   "display_name": "Python 3 (ipykernel)",
   "language": "python",
   "name": "python3"
  },
  "language_info": {
   "codemirror_mode": {
    "name": "ipython",
    "version": 3
   },
   "file_extension": ".py",
   "mimetype": "text/x-python",
   "name": "python",
   "nbconvert_exporter": "python",
   "pygments_lexer": "ipython3",
   "version": "3.10.8"
  }
 },
 "nbformat": 4,
 "nbformat_minor": 5
}
